{
  "nbformat": 4,
  "nbformat_minor": 0,
  "metadata": {
    "colab": {
      "name": "Colab's New Code Editor",
      "provenance": [],
      "collapsed_sections": [],
      "include_colab_link": true
    },
    "kernelspec": {
      "name": "python3",
      "display_name": "Python 3"
    },
    "accelerator": "GPU"
  },
  "cells": [
    {
      "cell_type": "markdown",
      "metadata": {
        "id": "view-in-github",
        "colab_type": "text"
      },
      "source": [
        "<a href=\"https://colab.research.google.com/github/BarCodeReader/8800scripts/blob/master/Colab's_New_Code_Editor.ipynb\" target=\"_parent\"><img src=\"https://colab.research.google.com/assets/colab-badge.svg\" alt=\"Open In Colab\"/></a>"
      ]
    },
    {
      "cell_type": "code",
      "metadata": {
        "id": "St8jkzUAjD04",
        "colab_type": "code",
        "colab": {}
      },
      "source": [
        "import torch\n",
        "import torch.nn as nn\n",
        "from torch.utils.data import DataLoader\n",
        "import torch.nn.functional as F\n",
        "from torch.nn.utils import weight_norm\n",
        "from torch.utils.data import Dataset\n",
        "from torchsummary import summary\n",
        "\n",
        "import glob\n",
        "import pandas as pd\n",
        "import numpy as np\n",
        "\n",
        "from matplotlib import pyplot as plt\n",
        "from tqdm import tqdm_notebook as tqnote"
      ],
      "execution_count": 0,
      "outputs": []
    },
    {
      "cell_type": "code",
      "metadata": {
        "id": "KB0T1oudIiZJ",
        "colab_type": "code",
        "colab": {}
      },
      "source": [
        "device = torch.device('cuda' if torch.cuda.is_available() else 'cpu')"
      ],
      "execution_count": 0,
      "outputs": []
    },
    {
      "cell_type": "code",
      "metadata": {
        "id": "PtlEa3XdIpWH",
        "colab_type": "code",
        "colab": {}
      },
      "source": [
        "device"
      ],
      "execution_count": 0,
      "outputs": []
    },
    {
      "cell_type": "code",
      "metadata": {
        "id": "_aapmxuci8Zk",
        "colab_type": "code",
        "colab": {}
      },
      "source": [
        "from google.colab import drive\n",
        "drive.mount('/gdrive')"
      ],
      "execution_count": 0,
      "outputs": []
    },
    {
      "cell_type": "code",
      "metadata": {
        "id": "Ok_b6il4jFuc",
        "colab_type": "code",
        "colab": {}
      },
      "source": [
        "files = glob.glob('/gdrive/My Drive/Kannada-MNIST/*csv')\n",
        "print(files)"
      ],
      "execution_count": 0,
      "outputs": []
    },
    {
      "cell_type": "code",
      "metadata": {
        "id": "6F63bWMXjXMK",
        "colab_type": "code",
        "colab": {}
      },
      "source": [
        "train = pd.read_csv('/gdrive/My Drive/Kannada-MNIST/train.csv')\n",
        "test = pd.read_csv('/gdrive/My Drive/Kannada-MNIST/test.csv')\n",
        "val = pd.read_csv('/gdrive/My Drive/Kannada-MNIST/Dig-MNIST.csv')"
      ],
      "execution_count": 0,
      "outputs": []
    },
    {
      "cell_type": "code",
      "metadata": {
        "id": "TbLX-nLgjfhM",
        "colab_type": "code",
        "colab": {}
      },
      "source": [
        "test.head(5)"
      ],
      "execution_count": 0,
      "outputs": []
    },
    {
      "cell_type": "code",
      "metadata": {
        "id": "-Se1a7cpji7X",
        "colab_type": "code",
        "colab": {}
      },
      "source": [
        "GT_train = np.array(train['label'])\n",
        "GT_val = np.array(val['label'])\n",
        "test_idx = np.array(test['id'])"
      ],
      "execution_count": 0,
      "outputs": []
    },
    {
      "cell_type": "code",
      "metadata": {
        "id": "yYXf7qbCjs-f",
        "colab_type": "code",
        "colab": {}
      },
      "source": [
        "train_len = GT_train.shape[0]\n",
        "val_len = GT_val.shape[0]\n",
        "test_len = test_idx.shape[0]"
      ],
      "execution_count": 0,
      "outputs": []
    },
    {
      "cell_type": "code",
      "metadata": {
        "id": "Sn6q6VhPj_ya",
        "colab_type": "code",
        "colab": {}
      },
      "source": [
        "train_data = np.array([np.array(train.iloc[i,1:]).reshape((28,28)) for i in range(train_len)])\n",
        "val_data = np.array([np.array(train.iloc[k,1:]).reshape((28,28)) for k in range(val_len)])\n",
        "test_data = np.array([np.array(test.iloc[j,1:]).reshape((28,28)) for j in range(test_len)])"
      ],
      "execution_count": 0,
      "outputs": []
    },
    {
      "cell_type": "code",
      "metadata": {
        "id": "gEzHjiTRkAZ-",
        "colab_type": "code",
        "colab": {}
      },
      "source": [
        "print(train_data.shape)\n",
        "print(val_data.shape)\n",
        "print(test_data.shape)"
      ],
      "execution_count": 0,
      "outputs": []
    },
    {
      "cell_type": "code",
      "metadata": {
        "id": "-5srmvBDkCqI",
        "colab_type": "code",
        "colab": {}
      },
      "source": [
        "from sklearn.model_selection import train_test_split"
      ],
      "execution_count": 0,
      "outputs": []
    },
    {
      "cell_type": "code",
      "metadata": {
        "id": "mWKKsRyzkHuW",
        "colab_type": "code",
        "colab": {}
      },
      "source": [
        "x_train, x_dev, y_train, y_dev = train_test_split(train_data,GT_train,test_size=0.1, random_state=42)"
      ],
      "execution_count": 0,
      "outputs": []
    },
    {
      "cell_type": "code",
      "metadata": {
        "id": "AObZnZ4_kKT7",
        "colab_type": "code",
        "colab": {}
      },
      "source": [
        "x_train = x_train/255.\n",
        "x_dev = x_dev/255.\n",
        "\n",
        "val_data = val_data/255."
      ],
      "execution_count": 0,
      "outputs": []
    },
    {
      "cell_type": "code",
      "metadata": {
        "id": "6_gErG98kpCv",
        "colab_type": "code",
        "colab": {}
      },
      "source": [
        "class DataGen(Dataset):\n",
        "  def __init__(self,imgset,GT,\n",
        "               shuffle=False,drop_last=True,transform = None):\n",
        "    \n",
        "    self.np_file = len(imgset)\n",
        "    self.shuffle=shuffle\n",
        "    \n",
        "    self.imgset = imgset\n",
        "    self.GT = GT\n",
        "        \n",
        "  def __len__(self):\n",
        "    return self.np_file\n",
        "\n",
        "  def __getitem__(self,idx):\n",
        "    \n",
        "    seed = np.random.randint(0,self.np_file)\n",
        "    \n",
        "    img1, img2, img3, img4 = self.transform(self.imgset[seed])\n",
        "    truth = self.GT[seed]\n",
        "    \n",
        "    #reshape\n",
        "    img1 = img1.reshape((1,28,28))\n",
        "    img2 = img2.reshape((1,28,28))\n",
        "    img3 = img3.reshape((1,28,28))\n",
        "    img4 = img4.reshape((1,28,28))\n",
        "    \n",
        "    img1 = torch.from_numpy(img1).float()\n",
        "    img2 = torch.from_numpy(img2).float()\n",
        "    img3 = torch.from_numpy(img3).float()\n",
        "    img4 = torch.from_numpy(img4).float()\n",
        "    \n",
        "    truth = torch.torch.tensor(truth)#.float()\n",
        "    return img1, img2, img3, img4, truth\n",
        "  \n",
        "  def transform(self,info):\n",
        "    '''     \n",
        "       graph 1      graph 2      graph 3      graph 4\n",
        "      ________     ________     ________     ________\n",
        "      | 1 | 2 |    | 2 | 1 |    | 3 | 4 |    | 4 | 3 |\n",
        "      |___|___|    |___|___|    |___|___|    |___|___|\n",
        "      | 3 | 4 |    | 4 | 3 |    | 1 | 2 |    | 2 | 1 |\n",
        "      |___|___|    |___|___|    |___|___|    |___|___|  \n",
        "\n",
        "    '''\n",
        "    #divide into parts\n",
        "    part1 = info[:14,:14]\n",
        "    part2 = info[:14,14:]\n",
        "    part3 = info[14:,:14]\n",
        "    part4 = info[14:,14:]\n",
        "\n",
        "    #graph 2\n",
        "    g2_upper = np.concatenate((part2,part1),axis = 1)\n",
        "    g2_lower = np.concatenate((part4,part3),axis = 1)\n",
        "    img2 = np.concatenate((g2_upper,g2_lower),axis = 0)\n",
        "\n",
        "    #graph 3\n",
        "    g3_upper = np.concatenate((part3,part4),axis = 1)\n",
        "    g3_lower = np.concatenate((part1,part2),axis = 1)\n",
        "    img3 = np.concatenate((g3_upper,g3_lower),axis = 0)\n",
        "\n",
        "    #graph 4\n",
        "    g4_upper = np.concatenate((part4,part3),axis = 1)\n",
        "    g4_lower = np.concatenate((part2,part1),axis = 1)\n",
        "    img4 = np.concatenate((g4_upper,g4_lower),axis = 0)\n",
        "  \n",
        "    return info, img2, img3, img4"
      ],
      "execution_count": 0,
      "outputs": []
    },
    {
      "cell_type": "code",
      "metadata": {
        "id": "MkudJOmmnS0t",
        "colab_type": "code",
        "colab": {}
      },
      "source": [
        "pic = DataGen(val_data,GT_val)"
      ],
      "execution_count": 0,
      "outputs": []
    },
    {
      "cell_type": "code",
      "metadata": {
        "id": "GuznUvh8zoDi",
        "colab_type": "code",
        "colab": {}
      },
      "source": [
        "p1,p2,p3,p4,gt = next(iter(pic))"
      ],
      "execution_count": 0,
      "outputs": []
    },
    {
      "cell_type": "code",
      "metadata": {
        "id": "qrsvITLXMt_1",
        "colab_type": "code",
        "colab": {}
      },
      "source": [
        "p1.size()"
      ],
      "execution_count": 0,
      "outputs": []
    },
    {
      "cell_type": "code",
      "metadata": {
        "id": "oSrkyWMDp4Kq",
        "colab_type": "code",
        "colab": {}
      },
      "source": [
        "plt.figure(figsize=[20,5])\n",
        "plt.subplot(1,4,1)\n",
        "plt.imshow(p1.numpy()[0])\n",
        "\n",
        "plt.subplot(1,4,2)\n",
        "plt.imshow(p2.numpy()[0])\n",
        "\n",
        "plt.subplot(1,4,3)\n",
        "plt.imshow(p3.numpy()[0])\n",
        "\n",
        "plt.subplot(1,4,4)\n",
        "plt.imshow(p4.numpy()[0])\n"
      ],
      "execution_count": 0,
      "outputs": []
    },
    {
      "cell_type": "code",
      "metadata": {
        "id": "MXn-VpZprUV1",
        "colab_type": "code",
        "colab": {}
      },
      "source": [
        "gt"
      ],
      "execution_count": 0,
      "outputs": []
    },
    {
      "cell_type": "code",
      "metadata": {
        "id": "vGMgD9_yv2lQ",
        "colab_type": "code",
        "colab": {}
      },
      "source": [
        "#define the model\n",
        "\n",
        "class CNN(nn.Module):\n",
        "    \n",
        "    def __init__(self):\n",
        "        super(CNN, self).__init__()\n",
        "        #for channel 1\n",
        "        self.c1conv1 = nn.Conv2d(1,32,kernel_size = (3,3))\n",
        "        self.c1conv2 = nn.Conv2d(32,32,kernel_size = (3,3))\n",
        "        self.c1conv3 = nn.Conv2d(32,64,kernel_size = (3,3))\n",
        "        self.c1conv4 = nn.Conv2d(64,64,kernel_size = (3,3))\n",
        "\n",
        "        #for channel 2\n",
        "        self.c2conv1 = nn.Conv2d(1,32,kernel_size = (3,3))\n",
        "        self.c2conv2 = nn.Conv2d(32,32,kernel_size = (3,3))\n",
        "        self.c2conv3 = nn.Conv2d(32,64,kernel_size = (3,3))\n",
        "        self.c2conv4 = nn.Conv2d(64,64,kernel_size = (3,3))\n",
        "        \n",
        "        #for channel 3\n",
        "        self.c3conv1 = nn.Conv2d(1,32,kernel_size = (3,3))\n",
        "        self.c3conv2 = nn.Conv2d(32,32,kernel_size = (3,3))\n",
        "        self.c3conv3 = nn.Conv2d(32,64,kernel_size = (3,3))\n",
        "        self.c3conv4 = nn.Conv2d(64,64,kernel_size = (3,3))\n",
        "        \n",
        "        #for channel 4\n",
        "        self.c4conv1 = nn.Conv2d(1,32,kernel_size = (3,3))\n",
        "        self.c4conv2 = nn.Conv2d(32,32,kernel_size = (3,3))\n",
        "        self.c4conv3 = nn.Conv2d(32,64,kernel_size = (3,3))\n",
        "        self.c4conv4 = nn.Conv2d(64,64,kernel_size = (3,3))\n",
        "        \n",
        "        self.flatten = nn.Flatten()\n",
        "        self.pool = nn.MaxPool2d((2,2))\n",
        "        self.dropout = nn.Dropout()\n",
        "        \n",
        "        #for channel 1\n",
        "        self.c1fc1 = nn.Linear(1024,128)\n",
        "        self.c1fc2 = nn.Linear(128,128)\n",
        "        self.c1fc3 = nn.Linear(128,10)    \n",
        "\n",
        "        #for channel 2\n",
        "        self.c2fc1 = nn.Linear(1024,128)\n",
        "        self.c2fc2 = nn.Linear(128,128)\n",
        "        self.c2fc3 = nn.Linear(128,10) \n",
        "        \n",
        "        #for channel 3\n",
        "        self.c3fc1 = nn.Linear(1024,128)\n",
        "        self.c3fc2 = nn.Linear(128,128)\n",
        "        self.c3fc3 = nn.Linear(128,10) \n",
        "        \n",
        "        #for channel 4\n",
        "        self.c4fc1 = nn.Linear(1024,128)\n",
        "        self.c4fc2 = nn.Linear(128,128)\n",
        "        self.c4fc3 = nn.Linear(128,10) \n",
        "        \n",
        "    def forward(self, c1,c2,c3,c4):\n",
        "      \n",
        "      #for channel 1\n",
        "      x1 = F.relu(self.c1conv1(c1))\n",
        "      x1 = F.relu(self.c1conv2(x1))\n",
        "      \n",
        "      x1 = self.pool(x1)\n",
        "      \n",
        "      x1 = F.relu(self.c1conv3(x1))\n",
        "      x1 = F.relu(self.c1conv4(x1))      \n",
        "      x1 = self.pool(x1)\n",
        "      \n",
        "      x1 = self.flatten(x1)\n",
        "      x1 = F.relu(self.c1fc1(x1))\n",
        "      x1 = self.dropout(x1)\n",
        "      \n",
        "      x1 = F.relu(self.c1fc2(x1))\n",
        "      x1 = self.dropout(x1)     \n",
        "      \n",
        "      x1 = F.softmax(self.c1fc3(x1))\n",
        "\n",
        "      #for channel 2\n",
        "      x2 = F.relu(self.c2conv1(c2))\n",
        "      x2 = F.relu(self.c2conv2(x2))\n",
        "      \n",
        "      x2 = self.pool(x2)\n",
        "      \n",
        "      x2 = F.relu(self.c2conv3(x2))\n",
        "      x2 = F.relu(self.c2conv4(x2))      \n",
        "      x2 = self.pool(x2)\n",
        "      \n",
        "      x2 = self.flatten(x2)\n",
        "      x2 = F.relu(self.c2fc1(x2))\n",
        "      x2 = self.dropout(x2)\n",
        "      \n",
        "      x2 = F.relu(self.c2fc2(x2))\n",
        "      x2 = self.dropout(x2)     \n",
        "      \n",
        "      x2 = F.softmax(self.c2fc3(x2))\n",
        "      \n",
        "      #for channel 3\n",
        "      x3 = F.relu(self.c3conv1(c3))\n",
        "      x3 = F.relu(self.c3conv2(x3))\n",
        "      \n",
        "      x3 = self.pool(x3)\n",
        "      \n",
        "      x3 = F.relu(self.c3conv3(x3))\n",
        "      x3 = F.relu(self.c3conv4(x3))      \n",
        "      x3 = self.pool(x3)\n",
        "      \n",
        "      x3 = self.flatten(x3)\n",
        "      x3 = F.relu(self.c3fc1(x3))\n",
        "      x3 = self.dropout(x3)\n",
        "      \n",
        "      x3 = F.relu(self.c3fc2(x3))\n",
        "      x3 = self.dropout(x3)     \n",
        "      \n",
        "      x3 = F.softmax(self.c3fc3(x3))\n",
        "      \n",
        "      #for channel 4\n",
        "      x4 = F.relu(self.c4conv1(c4))\n",
        "      x4 = F.relu(self.c4conv2(x4))\n",
        "      \n",
        "      x4 = self.pool(x4)\n",
        "      \n",
        "      x4 = F.relu(self.c4conv3(x4))\n",
        "      x4 = F.relu(self.c4conv4(x4))      \n",
        "      x4 = self.pool(x4)\n",
        "      \n",
        "      x4 = self.flatten(x4)\n",
        "      x4 = F.relu(self.c4fc1(x4))\n",
        "      x4 = self.dropout(x4)\n",
        "      \n",
        "      x4 = F.relu(self.c4fc2(x4))\n",
        "      x4 = self.dropout(x4)     \n",
        "      \n",
        "      x4 = F.softmax(self.c4fc3(x4))\n",
        "      \n",
        "      out = (x1+x2+x3+x4)/4\n",
        "      \n",
        "      return out"
      ],
      "execution_count": 0,
      "outputs": []
    },
    {
      "cell_type": "code",
      "metadata": {
        "id": "1YDmL6SlB7Xw",
        "colab_type": "code",
        "colab": {}
      },
      "source": [
        "def worker_init_fn(worker_id):\n",
        "    np.random.seed(np.random.get_state()[1][0] + worker_id)"
      ],
      "execution_count": 0,
      "outputs": []
    },
    {
      "cell_type": "code",
      "metadata": {
        "id": "NK6UaU9xB7aH",
        "colab_type": "code",
        "colab": {}
      },
      "source": [
        "def fit_on_generator(model, optimizer, loss_func, training,\n",
        "                     validation = None, \n",
        "                     steps_train = 100, steps_val = 100, checkpoint = None, verbose = 1):\n",
        "  \n",
        "    history_train = []\n",
        "    history_val = []\n",
        "    train_loss = np.zeros((steps_train))\n",
        "\n",
        "    model.train()\n",
        "    count = 0\n",
        "    with tqnote(total=steps_train) as pbar:\n",
        "        for x1,x2,x3,x4,GT in training:\n",
        "\n",
        "            x1 = x1.to(device)\n",
        "            x2 = x2.to(device)\n",
        "            x3 = x3.to(device)\n",
        "            x4 = x4.to(device)\n",
        "            \n",
        "            optimizer.zero_grad()\n",
        "            y_pred = model(x1,x2,x3,x4)\n",
        "\n",
        "            loss = loss_func(y_pred,GT)\n",
        "            loss.backward()  \n",
        "            \n",
        "            train_loss[count] = loss.cpu().data.numpy()\n",
        "            optimizer.step()\n",
        "            count += 1\n",
        "            pbar.update(1)\n",
        "            if count == steps_train:\n",
        "                break\n",
        "    history_train.append(np.mean(train_loss))\n",
        "    if verbose:\n",
        "        print('Training loss: {}'.format(history_train[-1]))\n",
        "\n",
        "    #--------------------------------------------------\n",
        "    if validation is not None:\n",
        "        print('now on validation...')\n",
        "        val_loss = np.zeros((steps_val))\n",
        "        count = 0\n",
        "        model.eval()\n",
        "        for xv1,xv2,xv3,xv4,GTv in validation:\n",
        "\n",
        "            xv1 = xv1.to(device)\n",
        "            xv2 = xv2.to(device)\n",
        "            xv3 = xv3.to(device)\n",
        "            xv4 = xv4.to(device)\n",
        "            \n",
        "            y_predv = model(xv1,xv2,xv3,xv4)\n",
        "\n",
        "            lossv = loss_func(y_predv,GTv)\n",
        "            val_loss[count] = lossv.cpu().data.numpy()\n",
        "            count += 1\n",
        "                \n",
        "            pbar.update(1)\n",
        "            if count == steps_val:\n",
        "                break\n",
        "\n",
        "        history_val.append(np.mean(val_loss))\n",
        "        \n",
        "        print('Validation loss: {}'.format(history_val[-1]))\n",
        "        if checkpoint is not None:\n",
        "            checkpoint(history_val[-1], model)\n",
        "    return {'train_loss':history_train, 'val_loss':history_val}"
      ],
      "execution_count": 0,
      "outputs": []
    },
    {
      "cell_type": "code",
      "metadata": {
        "id": "eKMo4ImjC0bX",
        "colab_type": "code",
        "colab": {}
      },
      "source": [
        "train = DataGen(x_train,y_train)\n",
        "dev = DataGen(x_dev,y_dev)\n",
        "val = DataGen(val_data,GT_val)"
      ],
      "execution_count": 0,
      "outputs": []
    },
    {
      "cell_type": "code",
      "metadata": {
        "id": "paYXk1h5B7ch",
        "colab_type": "code",
        "colab": {}
      },
      "source": [
        "bs = 10\n",
        "\n",
        "train_data = DataLoader(train, batch_size=bs,\n",
        "                  shuffle=True, num_workers=8,\n",
        "                  drop_last=True, worker_init_fn = worker_init_fn)\n",
        "        \n",
        "val_data = DataLoader(val, batch_size=bs,\n",
        "                 shuffle=True, num_workers=8,\n",
        "                 drop_last=True, worker_init_fn = worker_init_fn)"
      ],
      "execution_count": 0,
      "outputs": []
    },
    {
      "cell_type": "code",
      "metadata": {
        "id": "ROz0i2VkB7e5",
        "colab_type": "code",
        "colab": {}
      },
      "source": [
        "#load model\n",
        "model = CNN()\n",
        "model.to(device)\n",
        "print(model)"
      ],
      "execution_count": 0,
      "outputs": []
    },
    {
      "cell_type": "code",
      "metadata": {
        "id": "qqjW2vJkB7hL",
        "colab_type": "code",
        "colab": {}
      },
      "source": [
        "loss = torch.nn.CrossEntropyLoss()\n",
        "loss.to(device)\n",
        "\n",
        "optimizer = torch.optim.Adam(model.parameters(),lr=0.0001)"
      ],
      "execution_count": 0,
      "outputs": []
    },
    {
      "cell_type": "code",
      "metadata": {
        "id": "unBLZFVNB7jZ",
        "colab_type": "code",
        "colab": {}
      },
      "source": [
        "epochs = 100\n",
        "n_train = 50# len(train_data)\n",
        "n_val = len(val_data)\n",
        "\n",
        "for epoch in range(epochs):\n",
        "    np.random.seed()\n",
        "    print('Epoch {}/{}'.format(epoch, epochs))\n",
        "    history = fit_on_generator(model, optimizer, loss,  \n",
        "                               training = train_data,\n",
        "                               validation = val_data,\n",
        "                               steps_train = n_train,\n",
        "                               steps_val = n_val,\n",
        "                               verbose = 1)"
      ],
      "execution_count": 0,
      "outputs": []
    },
    {
      "cell_type": "code",
      "metadata": {
        "id": "-PSMRlfqtsD0",
        "colab_type": "code",
        "colab": {}
      },
      "source": [
        ""
      ],
      "execution_count": 0,
      "outputs": []
    }
  ]
}